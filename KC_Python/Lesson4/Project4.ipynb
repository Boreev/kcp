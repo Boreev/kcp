{
 "cells": [
  {
   "cell_type": "code",
   "execution_count": 23,
   "metadata": {},
   "outputs": [],
   "source": [
    "import pandas as pd\n",
    "import os\n",
    "\n",
    "import seaborn as sns \n",
    "import numpy as np\n",
    "import matplotlib.pyplot as plt\n",
    "\n",
    "%matplotlib inline "
   ]
  },
  {
   "cell_type": "code",
   "execution_count": 2,
   "metadata": {},
   "outputs": [],
   "source": [
    "path = '/mnt/HC_Volume_18315164/home-jupyter/jupyter-i-kazantseva-40/shared/homeworks/python_ds_miniprojects/4/data'"
   ]
  },
  {
   "cell_type": "code",
   "execution_count": 3,
   "metadata": {},
   "outputs": [
    {
     "data": {
      "text/html": [
       "<div>\n",
       "<style scoped>\n",
       "    .dataframe tbody tr th:only-of-type {\n",
       "        vertical-align: middle;\n",
       "    }\n",
       "\n",
       "    .dataframe tbody tr th {\n",
       "        vertical-align: top;\n",
       "    }\n",
       "\n",
       "    .dataframe thead th {\n",
       "        text-align: right;\n",
       "    }\n",
       "</style>\n",
       "<table border=\"1\" class=\"dataframe\">\n",
       "  <thead>\n",
       "    <tr style=\"text-align: right;\">\n",
       "      <th></th>\n",
       "      <th>product_id</th>\n",
       "      <th>quantity</th>\n",
       "      <th>name</th>\n",
       "      <th>date</th>\n",
       "    </tr>\n",
       "  </thead>\n",
       "  <tbody>\n",
       "    <tr>\n",
       "      <th>0</th>\n",
       "      <td>95</td>\n",
       "      <td>2</td>\n",
       "      <td>Vasiliy_Ivanov</td>\n",
       "      <td>2020-12-07</td>\n",
       "    </tr>\n",
       "    <tr>\n",
       "      <th>1</th>\n",
       "      <td>83</td>\n",
       "      <td>3</td>\n",
       "      <td>Vasiliy_Ivanov</td>\n",
       "      <td>2020-12-07</td>\n",
       "    </tr>\n",
       "    <tr>\n",
       "      <th>2</th>\n",
       "      <td>64</td>\n",
       "      <td>1</td>\n",
       "      <td>Vasiliy_Ivanov</td>\n",
       "      <td>2020-12-07</td>\n",
       "    </tr>\n",
       "    <tr>\n",
       "      <th>3</th>\n",
       "      <td>18</td>\n",
       "      <td>4</td>\n",
       "      <td>Petr_Fedorov</td>\n",
       "      <td>2020-12-07</td>\n",
       "    </tr>\n",
       "    <tr>\n",
       "      <th>4</th>\n",
       "      <td>94</td>\n",
       "      <td>4</td>\n",
       "      <td>Petr_Fedorov</td>\n",
       "      <td>2020-12-07</td>\n",
       "    </tr>\n",
       "    <tr>\n",
       "      <th>...</th>\n",
       "      <td>...</td>\n",
       "      <td>...</td>\n",
       "      <td>...</td>\n",
       "      <td>...</td>\n",
       "    </tr>\n",
       "    <tr>\n",
       "      <th>156</th>\n",
       "      <td>27</td>\n",
       "      <td>4</td>\n",
       "      <td>Petr_Ivanov</td>\n",
       "      <td>2020-12-05</td>\n",
       "    </tr>\n",
       "    <tr>\n",
       "      <th>157</th>\n",
       "      <td>89</td>\n",
       "      <td>1</td>\n",
       "      <td>Petr_Ivanov</td>\n",
       "      <td>2020-12-05</td>\n",
       "    </tr>\n",
       "    <tr>\n",
       "      <th>158</th>\n",
       "      <td>33</td>\n",
       "      <td>2</td>\n",
       "      <td>Petr_Ivanov</td>\n",
       "      <td>2020-12-05</td>\n",
       "    </tr>\n",
       "    <tr>\n",
       "      <th>159</th>\n",
       "      <td>8</td>\n",
       "      <td>3</td>\n",
       "      <td>Petr_Ivanov</td>\n",
       "      <td>2020-12-05</td>\n",
       "    </tr>\n",
       "    <tr>\n",
       "      <th>160</th>\n",
       "      <td>16</td>\n",
       "      <td>1</td>\n",
       "      <td>Petr_Ivanov</td>\n",
       "      <td>2020-12-05</td>\n",
       "    </tr>\n",
       "  </tbody>\n",
       "</table>\n",
       "<p>161 rows × 4 columns</p>\n",
       "</div>"
      ],
      "text/plain": [
       "    product_id quantity            name        date\n",
       "0           95        2  Vasiliy_Ivanov  2020-12-07\n",
       "1           83        3  Vasiliy_Ivanov  2020-12-07\n",
       "2           64        1  Vasiliy_Ivanov  2020-12-07\n",
       "3           18        4    Petr_Fedorov  2020-12-07\n",
       "4           94        4    Petr_Fedorov  2020-12-07\n",
       "..         ...      ...             ...         ...\n",
       "156         27        4     Petr_Ivanov  2020-12-05\n",
       "157         89        1     Petr_Ivanov  2020-12-05\n",
       "158         33        2     Petr_Ivanov  2020-12-05\n",
       "159          8        3     Petr_Ivanov  2020-12-05\n",
       "160         16        1     Petr_Ivanov  2020-12-05\n",
       "\n",
       "[161 rows x 4 columns]"
      ]
     },
     "execution_count": 3,
     "metadata": {},
     "output_type": "execute_result"
    }
   ],
   "source": [
    "df = []\n",
    "folder_data = os.listdir(path)\n",
    "\n",
    "for i in folder_data:\n",
    "    path_to_folder_date = path + '/' + i\n",
    "    folders_user = os.listdir(path_to_folder_date)\n",
    "    \n",
    "    for i in folders_user:\n",
    "        path_to_folder_user = path_to_folder_date + '/' + i\n",
    "        name_file = os.listdir(path_to_folder_user)\n",
    "        path_to_file = path_to_folder_user + '/' + name_file[0]\n",
    "        df.append(path_to_file)\n",
    "        \n",
    "list = df\n",
    "base = pd.DataFrame()\n",
    "for stroka in list:\n",
    "    test = []\n",
    "    p = stroka\n",
    "    for row in open(p).readlines():\n",
    "        if 'product_id' in row:\n",
    "            col_name = row\n",
    "            continue\n",
    "        test.append([value.strip() for value in row.split(',')])\n",
    "        final_col_names = [col.strip() for col in col_name.split(',')]\n",
    "\n",
    "    test = pd.DataFrame(test, columns=final_col_names).drop(columns='')\n",
    "    test['name'] = str(p).split('/')[-2]\n",
    "    test['date'] = str(p).split('/')[-3]\n",
    "    base = test.append(base)\n",
    "\n",
    "base = base.reset_index(drop=True)\n",
    "base"
   ]
  },
  {
   "cell_type": "code",
   "execution_count": 4,
   "metadata": {},
   "outputs": [
    {
     "data": {
      "text/plain": [
       "product_id    object\n",
       "quantity      object\n",
       "name          object\n",
       "date          object\n",
       "dtype: object"
      ]
     },
     "execution_count": 4,
     "metadata": {},
     "output_type": "execute_result"
    }
   ],
   "source": [
    "base.dtypes"
   ]
  },
  {
   "cell_type": "code",
   "execution_count": 5,
   "metadata": {},
   "outputs": [],
   "source": [
    "base['date'] = pd.to_datetime(base['date'], dayfirst=True)"
   ]
  },
  {
   "cell_type": "code",
   "execution_count": 6,
   "metadata": {},
   "outputs": [],
   "source": [
    "base.product_id = base.product_id.astype('int')"
   ]
  },
  {
   "cell_type": "code",
   "execution_count": 7,
   "metadata": {},
   "outputs": [],
   "source": [
    "base.quantity = base.quantity.astype('int')"
   ]
  },
  {
   "cell_type": "code",
   "execution_count": 8,
   "metadata": {},
   "outputs": [
    {
     "data": {
      "text/plain": [
       "product_id             int64\n",
       "quantity               int64\n",
       "name                  object\n",
       "date          datetime64[ns]\n",
       "dtype: object"
      ]
     },
     "execution_count": 8,
     "metadata": {},
     "output_type": "execute_result"
    }
   ],
   "source": [
    "base.dtypes"
   ]
  },
  {
   "cell_type": "code",
   "execution_count": 9,
   "metadata": {},
   "outputs": [
    {
     "data": {
      "text/plain": [
       "480"
      ]
     },
     "execution_count": 9,
     "metadata": {},
     "output_type": "execute_result"
    }
   ],
   "source": [
    "base.quantity.sum()"
   ]
  },
  {
   "cell_type": "code",
   "execution_count": 20,
   "metadata": {},
   "outputs": [
    {
     "data": {
      "text/html": [
       "<div>\n",
       "<style scoped>\n",
       "    .dataframe tbody tr th:only-of-type {\n",
       "        vertical-align: middle;\n",
       "    }\n",
       "\n",
       "    .dataframe tbody tr th {\n",
       "        vertical-align: top;\n",
       "    }\n",
       "\n",
       "    .dataframe thead th {\n",
       "        text-align: right;\n",
       "    }\n",
       "</style>\n",
       "<table border=\"1\" class=\"dataframe\">\n",
       "  <thead>\n",
       "    <tr style=\"text-align: right;\">\n",
       "      <th></th>\n",
       "      <th>quantity</th>\n",
       "    </tr>\n",
       "    <tr>\n",
       "      <th>name</th>\n",
       "      <th></th>\n",
       "    </tr>\n",
       "  </thead>\n",
       "  <tbody>\n",
       "    <tr>\n",
       "      <th>Alexey_Smirnov</th>\n",
       "      <td>52</td>\n",
       "    </tr>\n",
       "    <tr>\n",
       "      <th>Petr_Smirnov</th>\n",
       "      <td>52</td>\n",
       "    </tr>\n",
       "    <tr>\n",
       "      <th>Anton_Smirnov</th>\n",
       "      <td>45</td>\n",
       "    </tr>\n",
       "  </tbody>\n",
       "</table>\n",
       "</div>"
      ],
      "text/plain": [
       "                quantity\n",
       "name                    \n",
       "Alexey_Smirnov        52\n",
       "Petr_Smirnov          52\n",
       "Anton_Smirnov         45"
      ]
     },
     "execution_count": 20,
     "metadata": {},
     "output_type": "execute_result"
    }
   ],
   "source": [
    "best_user = base \\\n",
    "        .groupby(['name'], as_index=True) \\\n",
    "        .aggregate({'quantity': 'sum'}) \\\n",
    "        .sort_values(['quantity'], ascending=False)\n",
    "best_user.head(3)"
   ]
  },
  {
   "cell_type": "code",
   "execution_count": 32,
   "metadata": {},
   "outputs": [
    {
     "data": {
      "text/html": [
       "<div>\n",
       "<style scoped>\n",
       "    .dataframe tbody tr th:only-of-type {\n",
       "        vertical-align: middle;\n",
       "    }\n",
       "\n",
       "    .dataframe tbody tr th {\n",
       "        vertical-align: top;\n",
       "    }\n",
       "\n",
       "    .dataframe thead th {\n",
       "        text-align: right;\n",
       "    }\n",
       "</style>\n",
       "<table border=\"1\" class=\"dataframe\">\n",
       "  <thead>\n",
       "    <tr style=\"text-align: right;\">\n",
       "      <th></th>\n",
       "      <th>product_id</th>\n",
       "      <th>quantity</th>\n",
       "    </tr>\n",
       "  </thead>\n",
       "  <tbody>\n",
       "    <tr>\n",
       "      <th>22</th>\n",
       "      <td>27</td>\n",
       "      <td>20</td>\n",
       "    </tr>\n",
       "    <tr>\n",
       "      <th>42</th>\n",
       "      <td>56</td>\n",
       "      <td>18</td>\n",
       "    </tr>\n",
       "    <tr>\n",
       "      <th>21</th>\n",
       "      <td>24</td>\n",
       "      <td>15</td>\n",
       "    </tr>\n",
       "    <tr>\n",
       "      <th>51</th>\n",
       "      <td>74</td>\n",
       "      <td>15</td>\n",
       "    </tr>\n",
       "    <tr>\n",
       "      <th>32</th>\n",
       "      <td>41</td>\n",
       "      <td>14</td>\n",
       "    </tr>\n",
       "    <tr>\n",
       "      <th>27</th>\n",
       "      <td>34</td>\n",
       "      <td>13</td>\n",
       "    </tr>\n",
       "    <tr>\n",
       "      <th>66</th>\n",
       "      <td>94</td>\n",
       "      <td>13</td>\n",
       "    </tr>\n",
       "    <tr>\n",
       "      <th>46</th>\n",
       "      <td>66</td>\n",
       "      <td>13</td>\n",
       "    </tr>\n",
       "    <tr>\n",
       "      <th>65</th>\n",
       "      <td>92</td>\n",
       "      <td>12</td>\n",
       "    </tr>\n",
       "    <tr>\n",
       "      <th>38</th>\n",
       "      <td>50</td>\n",
       "      <td>12</td>\n",
       "    </tr>\n",
       "  </tbody>\n",
       "</table>\n",
       "</div>"
      ],
      "text/plain": [
       "    product_id  quantity\n",
       "22          27        20\n",
       "42          56        18\n",
       "21          24        15\n",
       "51          74        15\n",
       "32          41        14\n",
       "27          34        13\n",
       "66          94        13\n",
       "46          66        13\n",
       "65          92        12\n",
       "38          50        12"
      ]
     },
     "execution_count": 32,
     "metadata": {},
     "output_type": "execute_result"
    }
   ],
   "source": [
    "best_product = base \\\n",
    "        .groupby(['product_id'], as_index=False) \\\n",
    "        .aggregate({'quantity': 'sum'}) \\\n",
    "        .sort_values(['quantity'], ascending=False)\n",
    "best_product.head(10)"
   ]
  },
  {
   "cell_type": "code",
   "execution_count": 45,
   "metadata": {},
   "outputs": [
    {
     "data": {
      "image/png": "[encoded data removed]",
      "text/plain": [
       "<Figure size 1152x504 with 1 Axes>"
      ]
     },
     "metadata": {
      "needs_background": "light"
     },
     "output_type": "display_data"
    }
   ],
   "source": [
    "plt.figure(figsize = (16, 7))\n",
    "splot = sns.barplot (x=\"product_id\", y=\"quantity\", data=best_product, color = 'green')\n",
    "for g in splot.patches:\n",
    "    splot.annotate(format(g.get_height(), '.1f'),\n",
    "                   (g.get_x() + g.get_width() / 2., g.get_height()),\n",
    "                   ha = 'center', va = 'center',\n",
    "                   xytext = (0, 9),\n",
    "                   textcoords = 'offset points')\n",
    "plt.xlabel(\"product_id\", size = 14)\n",
    "plt.ylabel(\"quantity\", size = 14)\n",
    "plt.show()"
   ]
  },
  {
   "cell_type": "code",
   "execution_count": 58,
   "metadata": {},
   "outputs": [
    {
     "data": {
      "image/png": "[encoded data removed]",
      "text/plain": [
       "<Figure size 1296x216 with 1 Axes>"
      ]
     },
     "metadata": {
      "needs_background": "light"
     },
     "output_type": "display_data"
    }
   ],
   "source": [
    "plt.figure(figsize = (18, 3))\n",
    "splot = sns.barplot (x=\"product_id\", \n",
    "                     y=\"quantity\", \n",
    "                     data=best_product, \n",
    "                     color = 'green', \n",
    "                     alpha = 0.5, \n",
    "                     order = best_product.product_id.sort_values(ascending = False))"
   ]
  },
  {
   "cell_type": "code",
   "execution_count": 62,
   "metadata": {},
   "outputs": [
    {
     "data": {
      "text/html": [
       "<div>\n",
       "<style scoped>\n",
       "    .dataframe tbody tr th:only-of-type {\n",
       "        vertical-align: middle;\n",
       "    }\n",
       "\n",
       "    .dataframe tbody tr th {\n",
       "        vertical-align: top;\n",
       "    }\n",
       "\n",
       "    .dataframe thead th {\n",
       "        text-align: right;\n",
       "    }\n",
       "</style>\n",
       "<table border=\"1\" class=\"dataframe\">\n",
       "  <thead>\n",
       "    <tr style=\"text-align: right;\">\n",
       "      <th></th>\n",
       "      <th>date</th>\n",
       "      <th>quantity</th>\n",
       "    </tr>\n",
       "  </thead>\n",
       "  <tbody>\n",
       "    <tr>\n",
       "      <th>0</th>\n",
       "      <td>2020-12-03</td>\n",
       "      <td>60</td>\n",
       "    </tr>\n",
       "    <tr>\n",
       "      <th>1</th>\n",
       "      <td>2020-12-04</td>\n",
       "      <td>113</td>\n",
       "    </tr>\n",
       "    <tr>\n",
       "      <th>2</th>\n",
       "      <td>2020-12-05</td>\n",
       "      <td>61</td>\n",
       "    </tr>\n",
       "    <tr>\n",
       "      <th>3</th>\n",
       "      <td>2020-12-06</td>\n",
       "      <td>15</td>\n",
       "    </tr>\n",
       "    <tr>\n",
       "      <th>4</th>\n",
       "      <td>2020-12-07</td>\n",
       "      <td>94</td>\n",
       "    </tr>\n",
       "    <tr>\n",
       "      <th>5</th>\n",
       "      <td>2020-12-08</td>\n",
       "      <td>68</td>\n",
       "    </tr>\n",
       "    <tr>\n",
       "      <th>6</th>\n",
       "      <td>2020-12-09</td>\n",
       "      <td>69</td>\n",
       "    </tr>\n",
       "  </tbody>\n",
       "</table>\n",
       "</div>"
      ],
      "text/plain": [
       "        date  quantity\n",
       "0 2020-12-03        60\n",
       "1 2020-12-04       113\n",
       "2 2020-12-05        61\n",
       "3 2020-12-06        15\n",
       "4 2020-12-07        94\n",
       "5 2020-12-08        68\n",
       "6 2020-12-09        69"
      ]
     },
     "execution_count": 62,
     "metadata": {},
     "output_type": "execute_result"
    }
   ],
   "source": [
    "date_product = base \\\n",
    "        .groupby(['date'], as_index=False) \\\n",
    "        .aggregate({'quantity': 'sum'}) \\\n",
    "        \n",
    "date_product.head(10)"
   ]
  },
  {
   "cell_type": "code",
   "execution_count": 66,
   "metadata": {},
   "outputs": [
    {
     "data": {
      "text/plain": [
       "Text(0, 0.5, 'quantity')"
      ]
     },
     "execution_count": 66,
     "metadata": {},
     "output_type": "execute_result"
    },
    {
     "data": {
      "image/png": "[encoded data removed]",
      "text/plain": [
       "<Figure size 1872x720 with 1 Axes>"
      ]
     },
     "metadata": {
      "needs_background": "light"
     },
     "output_type": "display_data"
    }
   ],
   "source": [
    "plt.figure(figsize = (26, 10))\n",
    "sns.barplot (x=\"date\", y=\"quantity\", data=date_product)\n",
    "plt.xlabel(\"date\", size = 16)\n",
    "plt.ylabel(\"quantity\", size = 14)"
   ]
  },
  {
   "cell_type": "code",
   "execution_count": 77,
   "metadata": {},
   "outputs": [
    {
     "data": {
      "text/html": [
       "<div>\n",
       "<style scoped>\n",
       "    .dataframe tbody tr th:only-of-type {\n",
       "        vertical-align: middle;\n",
       "    }\n",
       "\n",
       "    .dataframe tbody tr th {\n",
       "        vertical-align: top;\n",
       "    }\n",
       "\n",
       "    .dataframe thead th {\n",
       "        text-align: right;\n",
       "    }\n",
       "</style>\n",
       "<table border=\"1\" class=\"dataframe\">\n",
       "  <thead>\n",
       "    <tr style=\"text-align: right;\">\n",
       "      <th></th>\n",
       "      <th>name</th>\n",
       "      <th>product_id</th>\n",
       "      <th>date</th>\n",
       "    </tr>\n",
       "  </thead>\n",
       "  <tbody>\n",
       "    <tr>\n",
       "      <th>37</th>\n",
       "      <td>Anton_Ivanov</td>\n",
       "      <td>15</td>\n",
       "      <td>2</td>\n",
       "    </tr>\n",
       "    <tr>\n",
       "      <th>92</th>\n",
       "      <td>Petr_Fedorov</td>\n",
       "      <td>94</td>\n",
       "      <td>2</td>\n",
       "    </tr>\n",
       "  </tbody>\n",
       "</table>\n",
       "</div>"
      ],
      "text/plain": [
       "            name  product_id  date\n",
       "37  Anton_Ivanov          15     2\n",
       "92  Petr_Fedorov          94     2"
      ]
     },
     "execution_count": 77,
     "metadata": {},
     "output_type": "execute_result"
    }
   ],
   "source": [
    "dubl_prod = base.drop_duplicates(subset=['name', 'product_id', 'date'])\n",
    "dubl_prod = dubl_prod \\\n",
    "        .groupby(['name', 'product_id'], as_index=False) \\\n",
    "        .aggregate({'date': 'count'}) \\\n",
    "        .query('date > 1')\n",
    "dubl_prod"
   ]
  },
  {
   "cell_type": "code",
   "execution_count": 10,
   "metadata": {},
   "outputs": [
    {
     "data": {
      "text/plain": [
       "\"\\ntest = []\\nfor i in open(str(list[0])).readlines():\\n    if 'product_id' in i:\\n            col_name = i\\n            continue\\n    test.append([value.strip() for value in i.split(',')])\\n    final_col_names = [col.strip() for col in col_name.split(',')]\\n\\ntest = pd.DataFrame(test, columns=final_col_names).drop(columns='')\\ntest['name'] = str(list[0]).split('/')[-2]\\ntest['date'] = str(list[0]).split('/')[-3]\\nbase = test.append(base)\\nbase\\n\""
      ]
     },
     "execution_count": 10,
     "metadata": {},
     "output_type": "execute_result"
    }
   ],
   "source": [
    "'''\n",
    "test = []\n",
    "for i in open(str(list[0])).readlines():\n",
    "    if 'product_id' in i:\n",
    "            col_name = i\n",
    "            continue\n",
    "    test.append([value.strip() for value in i.split(',')])\n",
    "    final_col_names = [col.strip() for col in col_name.split(',')]\n",
    "\n",
    "test = pd.DataFrame(test, columns=final_col_names).drop(columns='')\n",
    "test['name'] = str(list[0]).split('/')[-2]\n",
    "test['date'] = str(list[0]).split('/')[-3]\n",
    "base = test.append(base)\n",
    "base\n",
    "'''"
   ]
  },
  {
   "cell_type": "code",
   "execution_count": 11,
   "metadata": {},
   "outputs": [
    {
     "data": {
      "text/plain": [
       "\"\\nfor stroka in list:\\n    test = []\\n    p = stroka\\n    for row in open(p).readlines():\\n        if 'product_id' in row:\\n            col_name = row\\n            continue\\n        test.append([value.strip() for value in row.split(',')])\\n        final_col_names = [col.strip() for col in col_name.split(',')]\\n\\ntest = pd.DataFrame(test, columns=final_col_names).drop(columns='')\\ntest['name'] = str(p).split('/')[-2]\\ntest['date'] = str(p).split('/')[-3]\\nbase = test.append(base)\\nbase\\n\""
      ]
     },
     "execution_count": 11,
     "metadata": {},
     "output_type": "execute_result"
    }
   ],
   "source": [
    "'''\n",
    "for stroka in list:\n",
    "    test = []\n",
    "    p = stroka\n",
    "    for row in open(p).readlines():\n",
    "        if 'product_id' in row:\n",
    "            col_name = row\n",
    "            continue\n",
    "        test.append([value.strip() for value in row.split(',')])\n",
    "        final_col_names = [col.strip() for col in col_name.split(',')]\n",
    "\n",
    "test = pd.DataFrame(test, columns=final_col_names).drop(columns='')\n",
    "test['name'] = str(p).split('/')[-2]\n",
    "test['date'] = str(p).split('/')[-3]\n",
    "base = test.append(base)\n",
    "base\n",
    "'''"
   ]
  },
  {
   "cell_type": "code",
   "execution_count": 12,
   "metadata": {},
   "outputs": [],
   "source": [
    "# for path, dirs, files in os.walk('/mnt/HC_Volume_18315164/home-jupyter/jupyter-i-kazantseva-40/shared/homeworks/python_ds_miniprojects/4/data/'):\n",
    "#    print(path, dirs, files)"
   ]
  },
  {
   "cell_type": "code",
   "execution_count": 13,
   "metadata": {},
   "outputs": [],
   "source": [
    "# folder_data = os.listdir(path)\n",
    "# folder_data"
   ]
  },
  {
   "cell_type": "code",
   "execution_count": 14,
   "metadata": {},
   "outputs": [
    {
     "data": {
      "text/plain": [
       "\"\\nfor i in folder_data:\\n    path_to_folder_date = path + '/' + i\\n    folders_user = os.listdir(path_to_folder_date)\\n    print (folders_user)\\n\""
      ]
     },
     "execution_count": 14,
     "metadata": {},
     "output_type": "execute_result"
    }
   ],
   "source": [
    "'''\n",
    "for i in folder_data:\n",
    "    path_to_folder_date = path + '/' + i\n",
    "    folders_user = os.listdir(path_to_folder_date)\n",
    "    print (folders_user)\n",
    "'''"
   ]
  },
  {
   "cell_type": "code",
   "execution_count": 15,
   "metadata": {},
   "outputs": [
    {
     "data": {
      "text/plain": [
       "\"\\nfor user in folders_user:\\n    path_to_folder_user = path_to_folder_date + '/' + user\\n    name_file = os.listdir(path_to_folder_user)\\n    print (name_file)\\n\""
      ]
     },
     "execution_count": 15,
     "metadata": {},
     "output_type": "execute_result"
    }
   ],
   "source": [
    "'''\n",
    "for user in folders_user:\n",
    "    path_to_folder_user = path_to_folder_date + '/' + user\n",
    "    name_file = os.listdir(path_to_folder_user)\n",
    "    print (name_file)\n",
    "'''"
   ]
  },
  {
   "cell_type": "code",
   "execution_count": 16,
   "metadata": {},
   "outputs": [
    {
     "data": {
      "text/plain": [
       "\"\\nfor i in open(str(list[0])).readlines():\\n    if 'product_id' in i:\\n            col_name = i\\n            continue\\n    print(i)\\n\""
      ]
     },
     "execution_count": 16,
     "metadata": {},
     "output_type": "execute_result"
    }
   ],
   "source": [
    "'''\n",
    "for i in open(str(list[0])).readlines():\n",
    "    if 'product_id' in i:\n",
    "            col_name = i\n",
    "            continue\n",
    "    print(i)\n",
    "'''    "
   ]
  },
  {
   "cell_type": "code",
   "execution_count": 17,
   "metadata": {},
   "outputs": [],
   "source": [
    "#col_name"
   ]
  },
  {
   "cell_type": "code",
   "execution_count": 18,
   "metadata": {},
   "outputs": [
    {
     "data": {
      "text/plain": [
       "\"\\nfinal_col_names = [col.strip() for col in col_name.split(',')]\\nfinal_col_names\\n\""
      ]
     },
     "execution_count": 18,
     "metadata": {},
     "output_type": "execute_result"
    }
   ],
   "source": [
    "'''\n",
    "final_col_names = [col.strip() for col in col_name.split(',')]\n",
    "final_col_names\n",
    "'''"
   ]
  },
  {
   "cell_type": "code",
   "execution_count": null,
   "metadata": {},
   "outputs": [],
   "source": []
  }
 ],
 "metadata": {
  "kernelspec": {
   "display_name": "Python 3",
   "language": "python",
   "name": "python3"
  },
  "language_info": {
   "codemirror_mode": {
    "name": "ipython",
    "version": 3
   },
   "file_extension": ".py",
   "mimetype": "text/x-python",
   "name": "python",
   "nbconvert_exporter": "python",
   "pygments_lexer": "ipython3",
   "version": "3.7.3"
  }
 },
 "nbformat": 4,
 "nbformat_minor": 4
}
